{
 "cells": [
  {
   "cell_type": "code",
   "execution_count": 1,
   "metadata": {},
   "outputs": [
    {
     "name": "stderr",
     "output_type": "stream",
     "text": [
      "100%|██████████| 3053/3053 [00:01<00:00, 2617.36it/s]\n"
     ]
    },
    {
     "data": {
      "text/html": [
       "<div>\n",
       "<style scoped>\n",
       "    .dataframe tbody tr th:only-of-type {\n",
       "        vertical-align: middle;\n",
       "    }\n",
       "\n",
       "    .dataframe tbody tr th {\n",
       "        vertical-align: top;\n",
       "    }\n",
       "\n",
       "    .dataframe thead th {\n",
       "        text-align: right;\n",
       "    }\n",
       "</style>\n",
       "<table border=\"1\" class=\"dataframe\">\n",
       "  <thead>\n",
       "    <tr style=\"text-align: right;\">\n",
       "      <th></th>\n",
       "      <th>documents</th>\n",
       "    </tr>\n",
       "  </thead>\n",
       "  <tbody>\n",
       "    <tr>\n",
       "      <th>0</th>\n",
       "      <td>Hey friends 👋 I want to start off by saying t...</td>\n",
       "    </tr>\n",
       "    <tr>\n",
       "      <th>1</th>\n",
       "      <td>JavaScript is an important part of the web de...</td>\n",
       "    </tr>\n",
       "    <tr>\n",
       "      <th>2</th>\n",
       "      <td>This tutorial will be an introduction to the ...</td>\n",
       "    </tr>\n",
       "    <tr>\n",
       "      <th>3</th>\n",
       "      <td>With the new semester just around the corner,...</td>\n",
       "    </tr>\n",
       "    <tr>\n",
       "      <th>4</th>\n",
       "      <td>So basically if we try to concatenate string(...</td>\n",
       "    </tr>\n",
       "  </tbody>\n",
       "</table>\n",
       "</div>"
      ],
      "text/plain": [
       "                                           documents\n",
       "0   Hey friends 👋 I want to start off by saying t...\n",
       "1   JavaScript is an important part of the web de...\n",
       "2   This tutorial will be an introduction to the ...\n",
       "3   With the new semester just around the corner,...\n",
       "4   So basically if we try to concatenate string(..."
      ]
     },
     "execution_count": 1,
     "metadata": {},
     "output_type": "execute_result"
    }
   ],
   "source": [
    "import file_manager as fm\n",
    "import process_pages as pp\n",
    "from tqdm import tqdm\n",
    "\n",
    "valid_links=fm.get(\"data_with_tags\")\n",
    "\n",
    "raw_documents = [\"raw_\"+fm.clean_up_name(i) for i in valid_links]\n",
    "\n",
    "import pandas as pd\n",
    "df = pd.DataFrame()\n",
    "\n",
    "df[\"documents\"] = [fm.get(i) for i in tqdm(raw_documents)]\n",
    "\n",
    "df.head()"
   ]
  },
  {
   "cell_type": "code",
   "execution_count": 2,
   "metadata": {},
   "outputs": [
    {
     "name": "stderr",
     "output_type": "stream",
     "text": [
      "C:\\Users\\kadir\\AppData\\Local\\Temp/ipykernel_20024/355259177.py:2: FutureWarning: The default value of regex will change from True to False in a future version.\n",
      "  df['clean_documents'] = df['documents'].str.replace(\"[^a-zA-Z#]\", \" \")\n"
     ]
    },
    {
     "data": {
      "text/html": [
       "<div>\n",
       "<style scoped>\n",
       "    .dataframe tbody tr th:only-of-type {\n",
       "        vertical-align: middle;\n",
       "    }\n",
       "\n",
       "    .dataframe tbody tr th {\n",
       "        vertical-align: top;\n",
       "    }\n",
       "\n",
       "    .dataframe thead th {\n",
       "        text-align: right;\n",
       "    }\n",
       "</style>\n",
       "<table border=\"1\" class=\"dataframe\">\n",
       "  <thead>\n",
       "    <tr style=\"text-align: right;\">\n",
       "      <th></th>\n",
       "      <th>documents</th>\n",
       "      <th>clean_documents</th>\n",
       "    </tr>\n",
       "  </thead>\n",
       "  <tbody>\n",
       "    <tr>\n",
       "      <th>0</th>\n",
       "      <td>Hey friends 👋 I want to start off by saying t...</td>\n",
       "      <td>Hey friends   I want to start off by saying t...</td>\n",
       "    </tr>\n",
       "    <tr>\n",
       "      <th>1</th>\n",
       "      <td>JavaScript is an important part of the web de...</td>\n",
       "      <td>JavaScript is an important part of the web de...</td>\n",
       "    </tr>\n",
       "    <tr>\n",
       "      <th>2</th>\n",
       "      <td>This tutorial will be an introduction to the ...</td>\n",
       "      <td>This tutorial will be an introduction to the ...</td>\n",
       "    </tr>\n",
       "    <tr>\n",
       "      <th>3</th>\n",
       "      <td>With the new semester just around the corner,...</td>\n",
       "      <td>With the new semester just around the corner ...</td>\n",
       "    </tr>\n",
       "    <tr>\n",
       "      <th>4</th>\n",
       "      <td>So basically if we try to concatenate string(...</td>\n",
       "      <td>So basically if we try to concatenate string ...</td>\n",
       "    </tr>\n",
       "  </tbody>\n",
       "</table>\n",
       "</div>"
      ],
      "text/plain": [
       "                                           documents  \\\n",
       "0   Hey friends 👋 I want to start off by saying t...   \n",
       "1   JavaScript is an important part of the web de...   \n",
       "2   This tutorial will be an introduction to the ...   \n",
       "3   With the new semester just around the corner,...   \n",
       "4   So basically if we try to concatenate string(...   \n",
       "\n",
       "                                     clean_documents  \n",
       "0   Hey friends   I want to start off by saying t...  \n",
       "1   JavaScript is an important part of the web de...  \n",
       "2   This tutorial will be an introduction to the ...  \n",
       "3   With the new semester just around the corner ...  \n",
       "4   So basically if we try to concatenate string ...  "
      ]
     },
     "execution_count": 2,
     "metadata": {},
     "output_type": "execute_result"
    }
   ],
   "source": [
    "#remove special characters\n",
    "df['clean_documents'] = df['documents'].str.replace(\"[^a-zA-Z#]\", \" \")\n",
    "df.head()"
   ]
  },
  {
   "cell_type": "code",
   "execution_count": 3,
   "metadata": {},
   "outputs": [
    {
     "data": {
      "text/html": [
       "<div>\n",
       "<style scoped>\n",
       "    .dataframe tbody tr th:only-of-type {\n",
       "        vertical-align: middle;\n",
       "    }\n",
       "\n",
       "    .dataframe tbody tr th {\n",
       "        vertical-align: top;\n",
       "    }\n",
       "\n",
       "    .dataframe thead th {\n",
       "        text-align: right;\n",
       "    }\n",
       "</style>\n",
       "<table border=\"1\" class=\"dataframe\">\n",
       "  <thead>\n",
       "    <tr style=\"text-align: right;\">\n",
       "      <th></th>\n",
       "      <th>documents</th>\n",
       "      <th>clean_documents</th>\n",
       "    </tr>\n",
       "  </thead>\n",
       "  <tbody>\n",
       "    <tr>\n",
       "      <th>0</th>\n",
       "      <td>Hey friends 👋 I want to start off by saying t...</td>\n",
       "      <td>hey friends   i want to start off by saying t...</td>\n",
       "    </tr>\n",
       "    <tr>\n",
       "      <th>1</th>\n",
       "      <td>JavaScript is an important part of the web de...</td>\n",
       "      <td>javascript is an important part of the web de...</td>\n",
       "    </tr>\n",
       "    <tr>\n",
       "      <th>2</th>\n",
       "      <td>This tutorial will be an introduction to the ...</td>\n",
       "      <td>this tutorial will be an introduction to the ...</td>\n",
       "    </tr>\n",
       "    <tr>\n",
       "      <th>3</th>\n",
       "      <td>With the new semester just around the corner,...</td>\n",
       "      <td>with the new semester just around the corner ...</td>\n",
       "    </tr>\n",
       "    <tr>\n",
       "      <th>4</th>\n",
       "      <td>So basically if we try to concatenate string(...</td>\n",
       "      <td>so basically if we try to concatenate string ...</td>\n",
       "    </tr>\n",
       "  </tbody>\n",
       "</table>\n",
       "</div>"
      ],
      "text/plain": [
       "                                           documents  \\\n",
       "0   Hey friends 👋 I want to start off by saying t...   \n",
       "1   JavaScript is an important part of the web de...   \n",
       "2   This tutorial will be an introduction to the ...   \n",
       "3   With the new semester just around the corner,...   \n",
       "4   So basically if we try to concatenate string(...   \n",
       "\n",
       "                                     clean_documents  \n",
       "0   hey friends   i want to start off by saying t...  \n",
       "1   javascript is an important part of the web de...  \n",
       "2   this tutorial will be an introduction to the ...  \n",
       "3   with the new semester just around the corner ...  \n",
       "4   so basically if we try to concatenate string ...  "
      ]
     },
     "execution_count": 3,
     "metadata": {},
     "output_type": "execute_result"
    }
   ],
   "source": [
    "#lowercase all characters\n",
    "df['clean_documents'] = df['clean_documents'].fillna('').apply(lambda x: x.lower())\n",
    "df.head()"
   ]
  },
  {
   "cell_type": "code",
   "execution_count": 4,
   "metadata": {},
   "outputs": [
    {
     "name": "stderr",
     "output_type": "stream",
     "text": [
      "[nltk_data] Downloading package stopwords to\n",
      "[nltk_data]     C:\\Users\\kadir\\AppData\\Roaming\\nltk_data...\n",
      "[nltk_data]   Package stopwords is already up-to-date!\n"
     ]
    },
    {
     "data": {
      "text/html": [
       "<div>\n",
       "<style scoped>\n",
       "    .dataframe tbody tr th:only-of-type {\n",
       "        vertical-align: middle;\n",
       "    }\n",
       "\n",
       "    .dataframe tbody tr th {\n",
       "        vertical-align: top;\n",
       "    }\n",
       "\n",
       "    .dataframe thead th {\n",
       "        text-align: right;\n",
       "    }\n",
       "</style>\n",
       "<table border=\"1\" class=\"dataframe\">\n",
       "  <thead>\n",
       "    <tr style=\"text-align: right;\">\n",
       "      <th></th>\n",
       "      <th>documents</th>\n",
       "      <th>clean_documents</th>\n",
       "    </tr>\n",
       "  </thead>\n",
       "  <tbody>\n",
       "    <tr>\n",
       "      <th>0</th>\n",
       "      <td>Hey friends 👋 I want to start off by saying t...</td>\n",
       "      <td>hey friends want start saying measure even opt...</td>\n",
       "    </tr>\n",
       "    <tr>\n",
       "      <th>1</th>\n",
       "      <td>JavaScript is an important part of the web de...</td>\n",
       "      <td>javascript important part web development ecos...</td>\n",
       "    </tr>\n",
       "    <tr>\n",
       "      <th>2</th>\n",
       "      <td>This tutorial will be an introduction to the ...</td>\n",
       "      <td>tutorial introduction concept webhooks also bu...</td>\n",
       "    </tr>\n",
       "    <tr>\n",
       "      <th>3</th>\n",
       "      <td>With the new semester just around the corner,...</td>\n",
       "      <td>new semester around corner thought would perfe...</td>\n",
       "    </tr>\n",
       "    <tr>\n",
       "      <th>4</th>\n",
       "      <td>So basically if we try to concatenate string(...</td>\n",
       "      <td>basically try concatenate string empty string ...</td>\n",
       "    </tr>\n",
       "  </tbody>\n",
       "</table>\n",
       "</div>"
      ],
      "text/plain": [
       "                                           documents  \\\n",
       "0   Hey friends 👋 I want to start off by saying t...   \n",
       "1   JavaScript is an important part of the web de...   \n",
       "2   This tutorial will be an introduction to the ...   \n",
       "3   With the new semester just around the corner,...   \n",
       "4   So basically if we try to concatenate string(...   \n",
       "\n",
       "                                     clean_documents  \n",
       "0  hey friends want start saying measure even opt...  \n",
       "1  javascript important part web development ecos...  \n",
       "2  tutorial introduction concept webhooks also bu...  \n",
       "3  new semester around corner thought would perfe...  \n",
       "4  basically try concatenate string empty string ...  "
      ]
     },
     "execution_count": 4,
     "metadata": {},
     "output_type": "execute_result"
    }
   ],
   "source": [
    "import nltk\n",
    "nltk.download('stopwords')\n",
    "from nltk.corpus import stopwords\n",
    "\n",
    "stop_words = stopwords.words('english')\n",
    "\n",
    "# tokenization\n",
    "tokenized_doc = df['clean_documents'].fillna('').apply(lambda x: x.split())\n",
    "# remove stop-words\n",
    "tokenized_doc = tokenized_doc.apply(lambda x: [item for item in x if item not in stop_words])\n",
    "# de-tokenization\n",
    "detokenized_doc = []\n",
    "\n",
    "for i in range(len(df)):\n",
    "    t = ' '.join(tokenized_doc[i])\n",
    "    detokenized_doc.append(t)\n",
    "df['clean_documents'] = detokenized_doc\n",
    "df.head()"
   ]
  },
  {
   "cell_type": "code",
   "execution_count": 5,
   "metadata": {},
   "outputs": [
    {
     "name": "stderr",
     "output_type": "stream",
     "text": [
      "[nltk_data] Downloading package wordnet to\n",
      "[nltk_data]     C:\\Users\\kadir\\AppData\\Roaming\\nltk_data...\n",
      "[nltk_data]   Package wordnet is already up-to-date!\n"
     ]
    }
   ],
   "source": [
    "from nltk.stem.porter import PorterStemmer\n",
    "from nltk.stem import WordNetLemmatizer\n",
    "\n",
    "nltk.download(\"wordnet\")\n",
    "\n",
    "import re\n",
    "\n",
    "nltk.download('stopwords', quiet=True, raise_on_error=True)\n",
    "\n",
    "stopwords = stopwords.words('english')\n",
    "stemmer = PorterStemmer()\n",
    "lemmatizer = WordNetLemmatizer()\n",
    "\n",
    "def lemmatize_and_stem(text):\n",
    "\n",
    "    tokens = [word for sent in nltk.sent_tokenize(text) for word in nltk.word_tokenize(sent)]\n",
    "    filtered_tokens = []\n",
    "    for token in tokens:\n",
    "        if re.search('[a-zA-Z]', token):\n",
    "            filtered_tokens.append(token)\n",
    "\n",
    "    filtered_tokens = [lemmatizer.lemmatize(t) for t in filtered_tokens if t not in stopwords]\n",
    "    stems = [stemmer.stem(t) for t in filtered_tokens if t not in stopwords and len(t) > 1]\n",
    "\n",
    "    return stems\n",
    "\n",
    "from sklearn.feature_extraction.text import TfidfVectorizer\n",
    "\n",
    "vectorizer = TfidfVectorizer(smooth_idf=True,tokenizer=lemmatize_and_stem)\n",
    "\n",
    "train = vectorizer.fit_transform(df['clean_documents'])"
   ]
  },
  {
   "cell_type": "code",
   "execution_count": 6,
   "metadata": {},
   "outputs": [
    {
     "data": {
      "text/plain": [
       "array(['aa', 'aaa', 'aaaa', 'aab', 'aad', 'aadhar', 'aaeeertttt', 'aarch',\n",
       "       'ab', 'aba', 'abac', 'abacu', 'abaixo', 'abandon', 'abat',\n",
       "       'abayomi', 'abb', 'abbey', 'abbr', 'abbrevi', 'abc', 'abcd',\n",
       "       'abcdefgabc', 'abd', 'abdul', 'abdulkad', 'abdullah', 'aberdeen',\n",
       "       'aberta', 'aberto', 'abhinav', 'abhiraj', 'abhishek', 'abi',\n",
       "       'abid', 'abidoy', 'abierto', 'abil', 'abl', 'abnorm', 'abomin',\n",
       "       'abonn', 'abonnez', 'abordagem', 'abort', 'abou', 'abour', 'abp',\n",
       "       'abra', 'abraham', 'abramov', 'abreact', 'abren', 'abridg',\n",
       "       'abrir', 'abrirlo', 'abroad', 'abrupt', 'abruptli', 'absenc',\n",
       "       'absent', 'absolut', 'absorb', 'abstract',\n",
       "       'abstractfactorypattern', 'abstractmongoconfigur', 'abstrai',\n",
       "       'absurd', 'abuja', 'abund', 'abundantli', 'abus', 'abusiva',\n",
       "       'abyss', 'ac', 'aca', 'acaba', 'acabei', 'acabo', 'academ',\n",
       "       'academi', 'academind', 'acc', 'acccess', 'acced', 'accedido',\n",
       "       'accel', 'acceler', 'accentur', 'accept', 'accese', 'access',\n",
       "       'accessibi', 'accessor', 'accesstoken', 'acci', 'accid',\n",
       "       'accident', 'accion', 'acclim'], dtype=object)"
      ]
     },
     "execution_count": 6,
     "metadata": {},
     "output_type": "execute_result"
    }
   ],
   "source": [
    "dictionary = vectorizer.get_feature_names_out()\n",
    "dictionary[:100]"
   ]
  },
  {
   "cell_type": "code",
   "execution_count": 7,
   "metadata": {},
   "outputs": [
    {
     "name": "stdout",
     "output_type": "stream",
     "text": [
      "15918\n"
     ]
    }
   ],
   "source": [
    "print(len(dictionary))"
   ]
  },
  {
   "cell_type": "code",
   "execution_count": null,
   "metadata": {},
   "outputs": [],
   "source": [
    "#######################################################################################################################################"
   ]
  },
  {
   "cell_type": "code",
   "execution_count": null,
   "metadata": {},
   "outputs": [],
   "source": [
    "# RUN THIS LINE AND BELOW COMMENTED LINES TO USE LSA AS TOPIC-CANDIDATE COLUMNS GENERATOR\n",
    "\n",
    "#   from sklearn.decomposition import TruncatedSVD\n",
    "#   # SVD represent documents and terms in vectors\n",
    "#   # Reduce the dimension of vectors to number or candidate topics\n",
    "#   svd_model = TruncatedSVD(n_components=9, algorithm='randomized', n_iter=100, random_state=122)\n",
    "#   lsa = svd_model.fit_transform(train)"
   ]
  },
  {
   "cell_type": "code",
   "execution_count": null,
   "metadata": {},
   "outputs": [],
   "source": [
    "#   pd.options.display.float_format = '{:,.4f}'.format\n",
    "#   topic_encoded_df = pd.DataFrame(lsa, columns = [\"topic_1\", \"topic_2\", \"topic_3\", \"topic_4\", \"topic_5\", \"topic_6\", \"topic_7\", \"topic_8\", \"topic_9\"])\n",
    "#   topic_encoded_df[\"documents\"] = df['clean_documents']\n",
    "#   display(topic_encoded_df[[\"documents\", \"topic_1\", \"topic_2\", \"topic_3\", \"topic_4\", \"topic_5\", \"topic_6\", \"topic_7\", \"topic_8\", \"topic_9\"]])"
   ]
  },
  {
   "cell_type": "code",
   "execution_count": null,
   "metadata": {},
   "outputs": [],
   "source": [
    "#   topic_encoded_df[\"documents\"][0]"
   ]
  },
  {
   "cell_type": "code",
   "execution_count": 11,
   "metadata": {},
   "outputs": [
    {
     "name": "stdout",
     "output_type": "stream",
     "text": [
      "243\n"
     ]
    }
   ],
   "source": [
    "#   # the number of documents by their first tags\n",
    "#   tags_with_urls=fm.get(\"tags_with_urls\")\n",
    "#   print(len(tags_with_urls[\"nodejs\"]))"
   ]
  },
  {
   "cell_type": "code",
   "execution_count": null,
   "metadata": {},
   "outputs": [],
   "source": [
    "#   # document with tags at i.th index at all_urls\n",
    "#   lis = list(valid_links)\n",
    "#   a=lis[1768]\n",
    "#   print(a,\"\\n\")\n",
    "#   valid_links[a]"
   ]
  },
  {
   "cell_type": "code",
   "execution_count": null,
   "metadata": {},
   "outputs": [],
   "source": [
    "#   encoding_matrix = pd.DataFrame(svd_model.components_, columns = (dictionary)).T\n",
    "#   encoding_matrix"
   ]
  },
  {
   "cell_type": "code",
   "execution_count": null,
   "metadata": {},
   "outputs": [],
   "source": [
    "\n",
    "#   lis = list(valid_links.keys())\n",
    "#   \n",
    "#   tag_count_dict={}\n",
    "#   \n",
    "#   topic_encoded_df = topic_encoded_df.sort_values(ascending=False,by=\"topic_6\")\n",
    "#   for i in range(400):\n",
    "#       url_index = topic_encoded_df[\"topic_6\"].index[i]\n",
    "#   \n",
    "#   \n",
    "#   #    # get total count of tags for first N document\n",
    "#   #    # print(lis[url_index])\n",
    "#   #    for j in valid_links[lis[url_index]]:\n",
    "#   #        # print(j)\n",
    "#   #        if tag_count_dict.get(j) is not None:\n",
    "#   #            tag_count_dict[j] = tag_count_dict[j]+1\n",
    "#   #        else:\n",
    "#   #            tag_count_dict[j]=1\n",
    "#   \n",
    "#       # get counts of first tags for first N document\n",
    "#       first_key = valid_links[lis[url_index]][0]\n",
    "#       # print(first_key)\n",
    "#       if tag_count_dict.get(first_key) is not None:\n",
    "#           tag_count_dict[first_key] = tag_count_dict[first_key]+1\n",
    "#       else:\n",
    "#           tag_count_dict[first_key]=1\n",
    "#   \n",
    "#   \n",
    "#   mx = max(tag_count_dict.values())\n",
    "#   \n",
    "#   sorted_dict = dict(sorted(tag_count_dict.items(),\n",
    "#                              key=lambda item: item[1],\n",
    "#                              reverse=True))\n",
    "#   \n",
    "#   for i in list(sorted_dict)[:20]:\n",
    "#       print(i,sorted_dict[i])\n",
    "#   print(\"\\n\")\n",
    "#   \n",
    "#   for i in range(20):\n",
    "#       url_index = topic_encoded_df[\"topic_6\"].index[i]\n",
    "#       print(lis[url_index])"
   ]
  },
  {
   "cell_type": "code",
   "execution_count": null,
   "metadata": {},
   "outputs": [],
   "source": []
  },
  {
   "cell_type": "code",
   "execution_count": 190,
   "metadata": {},
   "outputs": [],
   "source": [
    "#   clusters=pd.DataFrame(columns=topic_encoded_df.columns[:9])"
   ]
  },
  {
   "cell_type": "code",
   "execution_count": 228,
   "metadata": {},
   "outputs": [],
   "source": [
    "#   #map the documents to their most probable columns\n",
    "#   topic_encoded_df = topic_encoded_df.sort_index(ascending=True,axis=0)\n",
    "#   topic_encoded_df2=pd.DataFrame(columns=topic_encoded_df.columns[:9],data=topic_encoded_df.iloc[0:,:9])\n",
    "#   \n",
    "#   cluster_dict={\n",
    "#       \"topic_1\":[],\n",
    "#       \"topic_2\":[],\n",
    "#       \"topic_3\":[],\n",
    "#       \"topic_4\":[],\n",
    "#       \"topic_5\":[],\n",
    "#       \"topic_6\":[],\n",
    "#       \"topic_7\":[],\n",
    "#       \"topic_8\":[],\n",
    "#       \"topic_9\":[]\n",
    "#   }\n",
    "#   \n",
    "#   for i in range(3053):\n",
    "#       maxValueIndexObj = topic_encoded_df2.iloc[i,:].idxmax(axis=0)\n",
    "#       cluster_dict[maxValueIndexObj].append(lis[i])\n"
   ]
  },
  {
   "cell_type": "code",
   "execution_count": null,
   "metadata": {},
   "outputs": [],
   "source": [
    "#   # number of documents in topic-candidate columns\n",
    "#   for i in cluster_dict:\n",
    "#       print(i,len(cluster_dict[i]))"
   ]
  },
  {
   "cell_type": "code",
   "execution_count": null,
   "metadata": {},
   "outputs": [],
   "source": [
    "#   # documents in topic-candidate column\n",
    "#   cluster_dict[\"topic_6\"]"
   ]
  },
  {
   "cell_type": "code",
   "execution_count": null,
   "metadata": {},
   "outputs": [],
   "source": [
    "######################################################################################################################################"
   ]
  },
  {
   "cell_type": "code",
   "execution_count": 8,
   "metadata": {},
   "outputs": [],
   "source": [
    "# Apply LSA on train data\n",
    "from sklearn.decomposition import TruncatedSVD\n",
    "# SVD represent documents and terms in vectors\n",
    "# Reduce the dimension of vectors to doc_count*500\n",
    "svd_model = TruncatedSVD(n_components=500, algorithm='randomized', n_iter=100, random_state=122)\n",
    "lsa = svd_model.fit_transform(train)"
   ]
  },
  {
   "cell_type": "code",
   "execution_count": 9,
   "metadata": {},
   "outputs": [
    {
     "data": {
      "text/html": [
       "<div>\n",
       "<style scoped>\n",
       "    .dataframe tbody tr th:only-of-type {\n",
       "        vertical-align: middle;\n",
       "    }\n",
       "\n",
       "    .dataframe tbody tr th {\n",
       "        vertical-align: top;\n",
       "    }\n",
       "\n",
       "    .dataframe thead th {\n",
       "        text-align: right;\n",
       "    }\n",
       "</style>\n",
       "<table border=\"1\" class=\"dataframe\">\n",
       "  <thead>\n",
       "    <tr style=\"text-align: right;\">\n",
       "      <th></th>\n",
       "      <th>0</th>\n",
       "      <th>1</th>\n",
       "      <th>2</th>\n",
       "      <th>3</th>\n",
       "      <th>4</th>\n",
       "      <th>5</th>\n",
       "      <th>6</th>\n",
       "      <th>7</th>\n",
       "      <th>8</th>\n",
       "      <th>9</th>\n",
       "      <th>...</th>\n",
       "      <th>491</th>\n",
       "      <th>492</th>\n",
       "      <th>493</th>\n",
       "      <th>494</th>\n",
       "      <th>495</th>\n",
       "      <th>496</th>\n",
       "      <th>497</th>\n",
       "      <th>498</th>\n",
       "      <th>499</th>\n",
       "      <th>documents</th>\n",
       "    </tr>\n",
       "  </thead>\n",
       "  <tbody>\n",
       "    <tr>\n",
       "      <th>0</th>\n",
       "      <td>0.3025</td>\n",
       "      <td>0.0018</td>\n",
       "      <td>-0.0396</td>\n",
       "      <td>0.0995</td>\n",
       "      <td>-0.1291</td>\n",
       "      <td>-0.0983</td>\n",
       "      <td>0.0958</td>\n",
       "      <td>0.0940</td>\n",
       "      <td>-0.0005</td>\n",
       "      <td>-0.1228</td>\n",
       "      <td>...</td>\n",
       "      <td>0.0077</td>\n",
       "      <td>0.0031</td>\n",
       "      <td>0.0115</td>\n",
       "      <td>-0.0054</td>\n",
       "      <td>0.0097</td>\n",
       "      <td>-0.0186</td>\n",
       "      <td>-0.0166</td>\n",
       "      <td>-0.0089</td>\n",
       "      <td>-0.0001</td>\n",
       "      <td>hey friends want start saying measure even opt...</td>\n",
       "    </tr>\n",
       "    <tr>\n",
       "      <th>1</th>\n",
       "      <td>0.3081</td>\n",
       "      <td>-0.0412</td>\n",
       "      <td>0.0176</td>\n",
       "      <td>0.1228</td>\n",
       "      <td>-0.0200</td>\n",
       "      <td>-0.1175</td>\n",
       "      <td>0.0719</td>\n",
       "      <td>0.1414</td>\n",
       "      <td>0.0049</td>\n",
       "      <td>-0.0988</td>\n",
       "      <td>...</td>\n",
       "      <td>0.0066</td>\n",
       "      <td>-0.0276</td>\n",
       "      <td>-0.0119</td>\n",
       "      <td>-0.0030</td>\n",
       "      <td>-0.0056</td>\n",
       "      <td>0.0016</td>\n",
       "      <td>0.0109</td>\n",
       "      <td>-0.0202</td>\n",
       "      <td>0.0026</td>\n",
       "      <td>javascript important part web development ecos...</td>\n",
       "    </tr>\n",
       "    <tr>\n",
       "      <th>2</th>\n",
       "      <td>0.2466</td>\n",
       "      <td>0.0788</td>\n",
       "      <td>-0.0937</td>\n",
       "      <td>0.0612</td>\n",
       "      <td>-0.1684</td>\n",
       "      <td>-0.1075</td>\n",
       "      <td>0.1434</td>\n",
       "      <td>0.0340</td>\n",
       "      <td>0.1477</td>\n",
       "      <td>0.0016</td>\n",
       "      <td>...</td>\n",
       "      <td>0.0176</td>\n",
       "      <td>-0.0468</td>\n",
       "      <td>0.0147</td>\n",
       "      <td>-0.0154</td>\n",
       "      <td>-0.0104</td>\n",
       "      <td>-0.0378</td>\n",
       "      <td>-0.0010</td>\n",
       "      <td>0.0209</td>\n",
       "      <td>-0.0195</td>\n",
       "      <td>tutorial introduction concept webhooks also bu...</td>\n",
       "    </tr>\n",
       "    <tr>\n",
       "      <th>3</th>\n",
       "      <td>0.2251</td>\n",
       "      <td>-0.0821</td>\n",
       "      <td>0.1122</td>\n",
       "      <td>-0.0618</td>\n",
       "      <td>0.0016</td>\n",
       "      <td>0.0160</td>\n",
       "      <td>-0.0369</td>\n",
       "      <td>0.0484</td>\n",
       "      <td>0.0319</td>\n",
       "      <td>-0.0515</td>\n",
       "      <td>...</td>\n",
       "      <td>-0.0210</td>\n",
       "      <td>-0.0012</td>\n",
       "      <td>0.0028</td>\n",
       "      <td>0.0415</td>\n",
       "      <td>-0.0058</td>\n",
       "      <td>0.0084</td>\n",
       "      <td>0.0182</td>\n",
       "      <td>0.0079</td>\n",
       "      <td>-0.0219</td>\n",
       "      <td>new semester around corner thought would perfe...</td>\n",
       "    </tr>\n",
       "    <tr>\n",
       "      <th>4</th>\n",
       "      <td>0.1598</td>\n",
       "      <td>-0.1640</td>\n",
       "      <td>-0.1570</td>\n",
       "      <td>-0.2582</td>\n",
       "      <td>0.1219</td>\n",
       "      <td>-0.2066</td>\n",
       "      <td>-0.0935</td>\n",
       "      <td>0.2786</td>\n",
       "      <td>-0.2032</td>\n",
       "      <td>0.0945</td>\n",
       "      <td>...</td>\n",
       "      <td>0.0072</td>\n",
       "      <td>0.0111</td>\n",
       "      <td>0.0130</td>\n",
       "      <td>-0.0048</td>\n",
       "      <td>-0.0008</td>\n",
       "      <td>-0.0080</td>\n",
       "      <td>-0.0207</td>\n",
       "      <td>0.0040</td>\n",
       "      <td>-0.0178</td>\n",
       "      <td>basically try concatenate string empty string ...</td>\n",
       "    </tr>\n",
       "  </tbody>\n",
       "</table>\n",
       "<p>5 rows × 501 columns</p>\n",
       "</div>"
      ],
      "text/plain": [
       "       0       1       2       3       4       5       6      7       8  \\\n",
       "0 0.3025  0.0018 -0.0396  0.0995 -0.1291 -0.0983  0.0958 0.0940 -0.0005   \n",
       "1 0.3081 -0.0412  0.0176  0.1228 -0.0200 -0.1175  0.0719 0.1414  0.0049   \n",
       "2 0.2466  0.0788 -0.0937  0.0612 -0.1684 -0.1075  0.1434 0.0340  0.1477   \n",
       "3 0.2251 -0.0821  0.1122 -0.0618  0.0016  0.0160 -0.0369 0.0484  0.0319   \n",
       "4 0.1598 -0.1640 -0.1570 -0.2582  0.1219 -0.2066 -0.0935 0.2786 -0.2032   \n",
       "\n",
       "        9  ...     491     492     493     494     495     496     497  \\\n",
       "0 -0.1228  ...  0.0077  0.0031  0.0115 -0.0054  0.0097 -0.0186 -0.0166   \n",
       "1 -0.0988  ...  0.0066 -0.0276 -0.0119 -0.0030 -0.0056  0.0016  0.0109   \n",
       "2  0.0016  ...  0.0176 -0.0468  0.0147 -0.0154 -0.0104 -0.0378 -0.0010   \n",
       "3 -0.0515  ... -0.0210 -0.0012  0.0028  0.0415 -0.0058  0.0084  0.0182   \n",
       "4  0.0945  ...  0.0072  0.0111  0.0130 -0.0048 -0.0008 -0.0080 -0.0207   \n",
       "\n",
       "      498     499                                          documents  \n",
       "0 -0.0089 -0.0001  hey friends want start saying measure even opt...  \n",
       "1 -0.0202  0.0026  javascript important part web development ecos...  \n",
       "2  0.0209 -0.0195  tutorial introduction concept webhooks also bu...  \n",
       "3  0.0079 -0.0219  new semester around corner thought would perfe...  \n",
       "4  0.0040 -0.0178  basically try concatenate string empty string ...  \n",
       "\n",
       "[5 rows x 501 columns]"
      ]
     },
     "execution_count": 9,
     "metadata": {},
     "output_type": "execute_result"
    }
   ],
   "source": [
    "pd.options.display.float_format = '{:,.4f}'.format\n",
    "lsa_applied_df = pd.DataFrame(lsa)\n",
    "lsa_applied_df[\"documents\"] = df['clean_documents']\n",
    "lsa_applied_df.head()"
   ]
  },
  {
   "cell_type": "code",
   "execution_count": 10,
   "metadata": {},
   "outputs": [
    {
     "name": "stderr",
     "output_type": "stream",
     "text": [
      "100%|██████████| 19/19 [00:30<00:00,  1.60s/it]\n"
     ]
    },
    {
     "data": {
      "image/png": "[encoded data removed]",
      "text/plain": [
       "<Figure size 1152x576 with 1 Axes>"
      ]
     },
     "metadata": {
      "needs_background": "light"
     },
     "output_type": "display_data"
    }
   ],
   "source": [
    "# Use the elbow method to determine the proper number of clusters \n",
    "import pandas as pd\n",
    "import numpy as np\n",
    "import matplotlib.pyplot as plt\n",
    "%matplotlib inline \n",
    "from sklearn.cluster import KMeans\n",
    "from tqdm import tqdm\n",
    "\n",
    "distortions = []\n",
    "K = range(1,20)\n",
    "for k in tqdm(K):\n",
    "    kmeanModel = KMeans(n_clusters=k, random_state=0).fit(lsa)\n",
    "    distortions.append(kmeanModel.inertia_)\n",
    "\n",
    "\n",
    "plt.figure(figsize=(16,8))\n",
    "plt.plot(K, distortions, 'bx-')\n",
    "plt.xlabel('k')\n",
    "plt.ylabel('Distortion')\n",
    "plt.title('The Elbow Method showing the optimal k')\n",
    "plt.show()"
   ]
  },
  {
   "cell_type": "code",
   "execution_count": 13,
   "metadata": {},
   "outputs": [],
   "source": [
    "train=lsa"
   ]
  },
  {
   "cell_type": "code",
   "execution_count": 61,
   "metadata": {},
   "outputs": [
    {
     "name": "stderr",
     "output_type": "stream",
     "text": [
      "100%|██████████| 17/17 [00:00<00:00, 183.28it/s]"
     ]
    },
    {
     "name": "stdout",
     "output_type": "stream",
     "text": [
      "Trained:  109  -  Predicted:  109\n",
      "Trained:  110  -  Predicted:  110\n",
      "Trained:  110  -  Predicted:  110\n",
      "Trained:  41  -  Predicted:  41\n",
      "Trained:  271  -  Predicted:  271\n",
      "Trained:  174  -  Predicted:  174\n",
      "Trained:  324  -  Predicted:  324\n",
      "Trained:  263  -  Predicted:  263\n",
      "Trained:  47  -  Predicted:  47\n",
      "Trained:  121  -  Predicted:  121\n",
      "Trained:  872  -  Predicted:  872\n",
      "Trained:  32  -  Predicted:  32\n",
      "Trained:  43  -  Predicted:  43\n",
      "Trained:  378  -  Predicted:  378\n",
      "Trained:  9  -  Predicted:  9\n",
      "Trained:  21  -  Predicted:  21\n",
      "Trained:  128  -  Predicted:  128\n"
     ]
    },
    {
     "name": "stderr",
     "output_type": "stream",
     "text": [
      "\n"
     ]
    }
   ],
   "source": [
    "import numpy as np\n",
    "from sklearn.feature_extraction.text import CountVectorizer\n",
    "from sklearn.cluster._kmeans import KMeans\n",
    "from tqdm import tqdm\n",
    "\n",
    "clusters = 17\n",
    "out = KMeans(n_clusters=clusters, random_state=0).fit(train)\n",
    "\n",
    "\n",
    "features = len(vectorizer.get_feature_names_out())\n",
    "#tests = np.reshape(test.toarray(), (-1, features))\n",
    "predictions = out.predict(train)\n",
    "\n",
    "for cluster in tqdm(range(clusters)):\n",
    "\tprint(\"Trained: \", list(out.labels_).count(cluster), \" - \", \"Predicted: \", list(predictions).count(cluster))"
   ]
  },
  {
   "cell_type": "code",
   "execution_count": null,
   "metadata": {},
   "outputs": [],
   "source": [
    "clusters_with_docs={\n",
    "    0:[],\n",
    "    1:[],\n",
    "    2:[],\n",
    "    3:[],\n",
    "    4:[],\n",
    "    5:[],\n",
    "    6:[],\n",
    "    7:[],\n",
    "    8:[],\n",
    "    9:[],\n",
    "    10:[],\n",
    "    11:[],\n",
    "    12:[],\n",
    "    13:[],\n",
    "    14:[],\n",
    "    15:[],\n",
    "    16:[]\n",
    "}\n",
    "\n",
    "for i in range(len(predictions)):\n",
    "    #print(i,\" \",predictions[i])\n",
    "    clusters_with_docs[predictions[i]].append(list(valid_links)[i])\n",
    "\n",
    "# for i in clusters_with_docs[0]:\n",
    "#     print(fm.clean_up_name(i))\n"
   ]
  },
  {
   "cell_type": "code",
   "execution_count": null,
   "metadata": {},
   "outputs": [],
   "source": [
    "for i in clusters_with_docs[3]:\n",
    "    print(valid_links[i])"
   ]
  },
  {
   "cell_type": "code",
   "execution_count": 84,
   "metadata": {},
   "outputs": [
    {
     "name": "stdout",
     "output_type": "stream",
     "text": [
      "java 21\n",
      "python 17\n",
      "coding 6\n",
      "machine-learning 5\n",
      "python-beginner 4\n",
      "cpp 4\n",
      "beginners 3\n",
      "programming-blogs 3\n",
      "programming-tips 3\n",
      "javascript 3\n",
      "\n",
      "\n",
      " python pitfalls chapter classes\n",
      " what is machine learning and types of ml algorithms\n",
      " python flask tutorial activities and their purpose and setup\n",
      "  best way to start learning python a complete roadmap\n",
      " game programming fundamentals\n",
      " why python is best language for data science\n",
      " journey from java to javascript part1\n",
      " introduction to python programming beginners guide\n",
      " python the beginners guide\n",
      " making decisions in python\n",
      " choose the best sql adapter for your python project\n",
      " the ultimate beginners guide to python\n",
      " backend jungle install and prep python edition\n",
      " machine learning python\n",
      " getting started with java programming\n",
      " programming the necessity\n",
      " python vs javascript what are the key differences between the two popular programming languages\n",
      " how to write better code\n",
      " setting up your working environment\n",
      " pyintro\n",
      " what is javascript\n",
      " custom commands in python idle\n",
      " program to check whether a number is a palindrome in 6 different languages\n",
      " python interesting facts\n",
      " online compilers and editors\n",
      " taking the first step\n",
      " lets build a stock price cli with python\n",
      " getting started with python and the beautiful road ahead cku15uxw20fgqwqs10ihbdz4j\n",
      " top tips for learning java programming\n",
      " 10 programming languages to learn in 2021\n",
      " rust jvm\n",
      " free interactivevideo courses for learning python 3 in 2021\n",
      " what is java runtime environment\n",
      " introduction to java\n",
      " javascript 10 important questions with answers for interview\n",
      " how to print hello world without using\n",
      " java terminology part 1 the basics\n",
      " chrome extensions that i use for laravel development\n",
      " choosing the first programming language as a beginer\n",
      " is python better that java\n"
     ]
    }
   ],
   "source": [
    "# View most used first tags of documents of a cluster\n",
    "lis = list(valid_links.keys())\n",
    "\n",
    "tag_count_dict={}\n",
    "\n",
    "cluster_key=16\n",
    "\n",
    "for i in clusters_with_docs[cluster_key]:\n",
    "#       print(fm.clean_up_name(i))\n",
    "\n",
    "#    # get total count of tags for first N document\n",
    "#    for j in valid_links[i]:\n",
    "#        # print(j)\n",
    "#        if tag_count_dict.get(j) is not None:\n",
    "#            tag_count_dict[j] = tag_count_dict[j]+1\n",
    "#        else:\n",
    "#            tag_count_dict[j]=1\n",
    "\n",
    "\n",
    "    # get counts of first tags for first N document\n",
    "    first_key = valid_links[i][0]\n",
    "    # print(first_key)\n",
    "    if tag_count_dict.get(first_key) is not None:\n",
    "        tag_count_dict[first_key] = tag_count_dict[first_key]+1\n",
    "    else:\n",
    "        tag_count_dict[first_key]=1\n",
    "\n",
    "\n",
    "mx = max(tag_count_dict.values())\n",
    "\n",
    "sorted_dict = dict(sorted(tag_count_dict.items(),\n",
    "                           key=lambda item: item[1],\n",
    "                           reverse=True))\n",
    "\n",
    "for i in list(sorted_dict)[:10]:\n",
    "    print(i,sorted_dict[i])\n",
    "print(\"\\n\")\n",
    "\n",
    "for i in clusters_with_docs[cluster_key][:40]:\n",
    "    print(\" \".join(fm.clean_up_name(i).split('hashnode_dev')[-1].split('_')))"
   ]
  },
  {
   "cell_type": "code",
   "execution_count": null,
   "metadata": {},
   "outputs": [],
   "source": [
    "#   TO-DO\n",
    "\n",
    "#   handle non-english documents\n",
    "#   sort documents of cluster by cosine dist to the centroids (sklearn)\n",
    "#   use pca to visualize the samples in 2 dimension\n",
    "#   generate scatter-plot for the clusters"
   ]
  }
 ],
 "metadata": {
  "interpreter": {
   "hash": "85a37dd0c2c65629be0a223c0dd82b6c07455dea86466ab6295717b7e29f7f71"
  },
  "kernelspec": {
   "display_name": "Python 3.8.10 64-bit ('nlp': conda)",
   "language": "python",
   "name": "python3"
  },
  "language_info": {
   "codemirror_mode": {
    "name": "ipython",
    "version": 3
   },
   "file_extension": ".py",
   "mimetype": "text/x-python",
   "name": "python",
   "nbconvert_exporter": "python",
   "pygments_lexer": "ipython3",
   "version": "3.8.10"
  },
  "orig_nbformat": 4
 },
 "nbformat": 4,
 "nbformat_minor": 2
}
